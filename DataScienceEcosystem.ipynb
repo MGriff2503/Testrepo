{
 "cells": [
  {
   "cell_type": "markdown",
   "id": "edb703e6-142b-48a5-bb8d-940889fbb21b",
   "metadata": {},
   "source": [
    "### **Exercise 1: Create a Jupyter Notebook**"
   ]
  },
  {
   "cell_type": "markdown",
   "id": "44d01061-2b7f-47dd-83ab-c24582a4a9d9",
   "metadata": {},
   "source": [
    "### **Exercise 2: Create a Markdown Cell with Title of the Notebook**"
   ]
  },
  {
   "cell_type": "markdown",
   "id": "e64c0f60-e6d8-49b9-a61f-447854d1f98f",
   "metadata": {},
   "source": [
    "# Data Science Tools and Ecosystem"
   ]
  },
  {
   "cell_type": "markdown",
   "id": "5c719eba-a564-4d9e-b5b0-e369386ae943",
   "metadata": {},
   "source": [
    "### **Exercise 3: Create Markdown Cell for an Introduction**"
   ]
  },
  {
   "cell_type": "markdown",
   "id": "762057d5-7c1c-4b80-a710-ff9774a95fb7",
   "metadata": {},
   "source": [
    "In this notebook, Data Science Tools and Ecosystem are summarised."
   ]
  },
  {
   "cell_type": "markdown",
   "id": "8186dfee-446c-49f3-9770-90f1adf8b050",
   "metadata": {},
   "source": [
    "### **Exercise 4: Create a Markdown Cell to List Data Science Languagaes**"
   ]
  },
  {
   "cell_type": "markdown",
   "id": "db0df8f1-be8a-480a-9823-0d3d3aacd926",
   "metadata": {},
   "source": [
    "Some of the popular languages that Data Scientists use are:\n",
    "\n",
    "1. Python\n",
    "2. R\n",
    "3. SQL\n",
    "4. Java\n",
    "5. C++"
   ]
  },
  {
   "cell_type": "markdown",
   "id": "4b694bab-343f-41d9-a360-b1ff1fd6492f",
   "metadata": {},
   "source": [
    "### **Exercise 5: Create a Markdown Cell to List Data Libraries**"
   ]
  },
  {
   "cell_type": "markdown",
   "id": "01a47cf0-961b-40cf-a592-2a671cdf90df",
   "metadata": {},
   "source": [
    "Some of the commonly used libraries by Data Scientists include:\n",
    "\n",
    "1. NumPy\n",
    "2. Pandas\n",
    "3. PyTorch\n",
    "4. Tensorflow\n",
    "5. Scikit-Learn"
   ]
  },
  {
   "cell_type": "markdown",
   "id": "9733f4f3-2d18-442c-840f-c525b70371c0",
   "metadata": {},
   "source": [
    "### **Exercise 6: Create a Markdown Cell with a table of Data Science Tools**"
   ]
  },
  {
   "cell_type": "markdown",
   "id": "de12b0dd-31d9-433c-98ac-b536302921f6",
   "metadata": {
    "tags": []
   },
   "source": [
    "| Data Science Tools |\n",
    "|--------------------|\n",
    "| Jupyter Notebooks |\n",
    "| JupyterLab |\n",
    "| Apache Zeppelin |\n",
    "| RStudio |\n",
    "| Spyder |"
   ]
  },
  {
   "cell_type": "markdown",
   "id": "6fbc2dad-eea5-451e-b41f-9f4bd553d8ea",
   "metadata": {},
   "source": [
    "### **Exercise 7: Create a Markdown Cell Introducing Arithmetic Expression Examples**\n",
    "### **Exercise 8: Create a Code Cell to Multiply and Add Numbers**"
   ]
  },
  {
   "cell_type": "markdown",
   "id": "d72457b4-0a12-4143-a01b-1442d28741d0",
   "metadata": {},
   "source": [
    "### Below are a few examples of evaluating arithmetic expressions in Python"
   ]
  },
  {
   "cell_type": "code",
   "execution_count": 3,
   "id": "ea6dd3ef-e91a-4b0d-952f-b56dbe39ca34",
   "metadata": {
    "tags": []
   },
   "outputs": [
    {
     "data": {
      "text/plain": [
       "17"
      ]
     },
     "execution_count": 3,
     "metadata": {},
     "output_type": "execute_result"
    }
   ],
   "source": [
    "# This is a simple arithmetic expression to multiply and add integers:\n",
    "(3*4)+5"
   ]
  },
  {
   "cell_type": "markdown",
   "id": "6040e36c-ca3b-4ca7-a8ad-74716d5256e6",
   "metadata": {},
   "source": [
    "### **Exercise 9: Create a Code Cell to Convert Minutes to Hours**"
   ]
  },
  {
   "cell_type": "code",
   "execution_count": 13,
   "id": "01ca019a-bd48-4820-acd7-f6c8ea017435",
   "metadata": {
    "tags": []
   },
   "outputs": [
    {
     "data": {
      "text/plain": [
       "3.3333333333333335"
      ]
     },
     "execution_count": 13,
     "metadata": {},
     "output_type": "execute_result"
    }
   ],
   "source": [
    "# This will convert 200 minutes into hours by dividing by 60\n",
    "200/60 "
   ]
  },
  {
   "cell_type": "markdown",
   "id": "136550b6-376e-460b-bdbc-82b40fbf6944",
   "metadata": {},
   "source": [
    "### **Exercise 10: Insert a Markdown Cell to List Objectives**\n"
   ]
  },
  {
   "cell_type": "markdown",
   "id": "7ed237fd-2b14-407c-8b46-f69814ee5337",
   "metadata": {},
   "source": [
    "**Objectives:**\n",
    "- Introduction\n",
    "- List of Data Science Languages\n",
    "- List of Data Science Libraries\n",
    "- Table of Data Science Tools"
   ]
  },
  {
   "cell_type": "markdown",
   "id": "c036c159-4e2a-4674-81b6-b8669a6b233f",
   "metadata": {},
   "source": [
    "### **Exercise 11: Create a Markdown Cell to Indicate the Author's Name**"
   ]
  },
  {
   "cell_type": "markdown",
   "id": "4227bfb2-7621-4d56-b349-742ad301aece",
   "metadata": {
    "tags": []
   },
   "source": [
    "Author\n",
    "## Matthew Griffiths "
   ]
  },
  {
   "cell_type": "markdown",
   "id": "437a34f6-ccf9-4d6e-835d-3e5a72de3645",
   "metadata": {},
   "source": [
    "### **Exercise 12: Share your Notebook Through GitHub**\n"
   ]
  },
  {
   "cell_type": "markdown",
   "id": "3a2356d9-54e5-42b5-b456-8266fa6e5644",
   "metadata": {},
   "source": [
    "### **Exercise 13: Take a Screenshot of the First Page of the Notebook**"
   ]
  },
  {
   "cell_type": "code",
   "execution_count": null,
   "id": "0910c915-7c87-428a-af3b-fb9ae624ace3",
   "metadata": {},
   "outputs": [],
   "source": []
  }
 ],
 "metadata": {
  "kernelspec": {
   "display_name": "Python",
   "language": "python",
   "name": "conda-env-python-py"
  },
  "language_info": {
   "codemirror_mode": {
    "name": "ipython",
    "version": 3
   },
   "file_extension": ".py",
   "mimetype": "text/x-python",
   "name": "python",
   "nbconvert_exporter": "python",
   "pygments_lexer": "ipython3",
   "version": "3.7.12"
  }
 },
 "nbformat": 4,
 "nbformat_minor": 5
}
